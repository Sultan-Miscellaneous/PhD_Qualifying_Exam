{
 "metadata": {
  "language_info": {
   "codemirror_mode": {
    "name": "ipython",
    "version": 3
   },
   "file_extension": ".py",
   "mimetype": "text/x-python",
   "name": "python",
   "nbconvert_exporter": "python",
   "pygments_lexer": "ipython3",
   "version": "3.8.5"
  },
  "orig_nbformat": 2,
  "kernelspec": {
   "name": "python385jvsc74a57bd01132dd3d2b62629b64ef6d511395d731d55c4cfd2a36df2bde7531b770e8b631",
   "display_name": "Python 3.8.5 64-bit ('HW1': conda)"
  }
 },
 "nbformat": 4,
 "nbformat_minor": 2,
 "cells": [
  {
   "cell_type": "code",
   "execution_count": 53,
   "metadata": {},
   "outputs": [],
   "source": [
    "import numpy as np\n",
    "from numpy.lib.stride_tricks import sliding_window_view\n",
    "from itertools import product as quite_product\n",
    "from tqdm.contrib.itertools import product\n",
    "from collections import Counter\n",
    "from itertools import cycle"
   ]
  },
  {
   "cell_type": "code",
   "execution_count": 54,
   "metadata": {},
   "outputs": [],
   "source": [
    "weights_M  = 3\n",
    "weights_N  = 3\n",
    "ifmap_M = 224\n",
    "ifmap_N = 224\n",
    "channels = 4\n",
    "ofmap_M = ifmap_M-weights_M+1\n",
    "ofmap_N = ifmap_N-weights_M+1\n",
    "ofmap_C = 1"
   ]
  },
  {
   "cell_type": "code",
   "execution_count": 55,
   "metadata": {},
   "outputs": [],
   "source": [
    "ifmap = np.arange(channels*ifmap_M*ifmap_N).reshape(channels,ifmap_M,ifmap_N)\n",
    "weights = np.arange(channels*weights_M*weights_N).reshape(channels,weights_M,weights_N)"
   ]
  },
  {
   "cell_type": "code",
   "execution_count": 56,
   "metadata": {},
   "outputs": [
    {
     "output_type": "execute_result",
     "data": {
      "text/plain": [
       "(4, 222, 222, 3, 3)"
      ]
     },
     "metadata": {},
     "execution_count": 56
    }
   ],
   "source": [
    "pads = sliding_window_view(ifmap,window_shape=[1,3,3]).squeeze()\n",
    "pads.shape"
   ]
  },
  {
   "cell_type": "code",
   "execution_count": 57,
   "metadata": {},
   "outputs": [
    {
     "output_type": "stream",
     "name": "stderr",
     "text": [
      "100%|██████████| 197136/197136 [00:05<00:00, 38805.10it/s]\n"
     ]
    }
   ],
   "source": [
    "pad_origin = {}\n",
    "for p_k, p_i, p_j in product(range(pads.shape[0]), range(pads.shape[1]), range(pads.shape[2])):\n",
    "    for w_i, w_j in vanilla_product(range(pads.shape[3]), range(pads.shape[4])):\n",
    "        cur_ifmap = pads[p_k, p_i, p_j, w_i, w_j]\n",
    "        origin = {\"pad_idx\": (p_k, p_i, p_j), \"weight_idx\": (w_i, w_j)}\n",
    "        if cur_ifmap not in pad_origin.keys():\n",
    "            pad_origin[cur_ifmap] = [origin]\n",
    "        else:\n",
    "            pad_origin[cur_ifmap].append(origin)"
   ]
  },
  {
   "cell_type": "code",
   "execution_count": 58,
   "metadata": {},
   "outputs": [
    {
     "output_type": "execute_result",
     "data": {
      "text/plain": [
       "(4, 3, 3)"
      ]
     },
     "metadata": {},
     "execution_count": 58
    }
   ],
   "source": [
    "weights.shape"
   ]
  },
  {
   "cell_type": "code",
   "execution_count": 60,
   "metadata": {},
   "outputs": [
    {
     "output_type": "stream",
     "name": "stderr",
     "text": [
      "100%|██████████| 50176/50176 [00:00<00:00, 128438.49it/s]\n",
      "100%|██████████| 50176/50176 [00:00<00:00, 135898.96it/s]\n",
      "100%|██████████| 50176/50176 [00:00<00:00, 134695.17it/s]\n",
      "100%|██████████| 50176/50176 [00:00<00:00, 137170.57it/s]\n"
     ]
    }
   ],
   "source": [
    "output = []\n",
    "for k in quite_product(range(channels)):\n",
    "    pad_completion_counter = Counter()\n",
    "    for i, j in product(range(ifmap_M), range(ifmap_N)):\n",
    "        output_added = False\n",
    "        for assosciated_pads in pad_origin[ifmap[k][i][j]]:\n",
    "            pad_idx = assosciated_pads['pad_idx']\n",
    "            pad_completion_counter[pad_idx] += 1\n",
    "            if pad_completion_counter[pad_idx] == 9:\n",
    "                output.append(np.einsum('ij,ij', pads[pad_idx], weights[k]))\n",
    "                output_added = True\n",
    "        if i>0 and not output_added:\n",
    "            output.append(0)\n",
    "                \n",
    "    output.extend([0]*224)\n",
    "\n",
    "output.extend([0])\n",
    "output = np.array(output[1:]).reshape(channels,ifmap_M,ifmap_N)"
   ]
  },
  {
   "cell_type": "code",
   "execution_count": 65,
   "metadata": {},
   "outputs": [
    {
     "output_type": "error",
     "ename": "IndexError",
     "evalue": "index 4 is out of bounds for axis 0 with size 4",
     "traceback": [
      "\u001b[0;31m---------------------------------------------------------------------------\u001b[0m",
      "\u001b[0;31mIndexError\u001b[0m                                Traceback (most recent call last)",
      "\u001b[0;32m<ipython-input-65-ec5129e4b1c9>\u001b[0m in \u001b[0;36m<module>\u001b[0;34m\u001b[0m\n\u001b[0;32m----> 1\u001b[0;31m \u001b[0moutput\u001b[0m\u001b[0;34m[\u001b[0m\u001b[0;36m4\u001b[0m\u001b[0;34m]\u001b[0m\u001b[0;34m\u001b[0m\u001b[0;34m\u001b[0m\u001b[0m\n\u001b[0m",
      "\u001b[0;31mIndexError\u001b[0m: index 4 is out of bounds for axis 0 with size 4"
     ]
    }
   ],
   "source": [
    "output[4]\n"
   ]
  },
  {
   "cell_type": "code",
   "execution_count": 35,
   "metadata": {},
   "outputs": [],
   "source": []
  },
  {
   "cell_type": "code",
   "execution_count": 39,
   "metadata": {},
   "outputs": [
    {
     "output_type": "execute_result",
     "data": {
      "text/plain": [
       "1"
      ]
     },
     "metadata": {},
     "execution_count": 39
    }
   ],
   "source": []
  },
  {
   "cell_type": "code",
   "execution_count": null,
   "metadata": {},
   "outputs": [],
   "source": []
  }
 ]
}