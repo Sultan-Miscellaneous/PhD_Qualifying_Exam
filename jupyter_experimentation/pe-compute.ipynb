{
 "metadata": {
  "language_info": {
   "codemirror_mode": {
    "name": "ipython",
    "version": 3
   },
   "file_extension": ".py",
   "mimetype": "text/x-python",
   "name": "python",
   "nbconvert_exporter": "python",
   "pygments_lexer": "ipython3",
   "version": "3.8.5"
  },
  "orig_nbformat": 2,
  "kernelspec": {
   "name": "python385jvsc74a57bd01132dd3d2b62629b64ef6d511395d731d55c4cfd2a36df2bde7531b770e8b631",
   "display_name": "Python 3.8.5 64-bit ('HW1': conda)"
  }
 },
 "nbformat": 4,
 "nbformat_minor": 2,
 "cells": [
  {
   "cell_type": "code",
   "execution_count": 158,
   "metadata": {},
   "outputs": [],
   "source": [
    "import numpy as np\n",
    "from numpy.lib.stride_tricks import sliding_window_view\n",
    "from itertools import product as quite_product\n",
    "from tqdm.contrib.itertools import product\n",
    "from collections import Counter\n",
    "from itertools import cycle\n",
    "\n",
    "from matplotlib import image\n",
    "import torch\n",
    "import torch.nn as nn\n",
    "import torch.nn.functional as F\n",
    "import torch.utils.data as Data\n",
    "import torchvision\n",
    "import torchvision.transforms as transforms\n",
    "from PIL import Image\n",
    "import torchvision.transforms.functional as TF\n",
    "from torchvision.utils import save_image\n",
    "import sys\n",
    "import matplotlib.pyplot as plt\n",
    "import numpy as np\n",
    "from math import ceil"
   ]
  },
  {
   "cell_type": "code",
   "execution_count": 159,
   "metadata": {},
   "outputs": [],
   "source": [
    "weights_M  = 3\n",
    "weights_N  = 3\n",
    "ifmap_M = 224\n",
    "ifmap_N = 224\n",
    "ofmap_M = ifmap_M-weights_M+1\n",
    "ofmap_N = ifmap_N-weights_M+1\n",
    "ofmap_C = 1"
   ]
  },
  {
   "cell_type": "code",
   "execution_count": 160,
   "metadata": {},
   "outputs": [],
   "source": []
  },
  {
   "cell_type": "code",
   "execution_count": 114,
   "metadata": {},
   "outputs": [
    {
     "output_type": "execute_result",
     "data": {
      "text/plain": [
       "(3, 222, 222, 3, 3)"
      ]
     },
     "metadata": {},
     "execution_count": 114
    }
   ],
   "source": [
    "pads = sliding_window_view(ifmap,window_shape=[1,weights_M,weights_N]).squeeze()\n",
    "pads.shape"
   ]
  },
  {
   "cell_type": "code",
   "execution_count": 115,
   "metadata": {},
   "outputs": [
    {
     "output_type": "stream",
     "name": "stderr",
     "text": [
      "100%|██████████| 147852/147852 [00:03<00:00, 40356.54it/s]\n"
     ]
    }
   ],
   "source": [
    "pad_origin = {}\n",
    "for p_k, p_i, p_j in product(range(pads.shape[0]), range(pads.shape[1]), range(pads.shape[2])):\n",
    "    for w_i, w_j in vanilla_product(range(pads.shape[3]), range(pads.shape[4])):\n",
    "        cur_ifmap = pads[p_k, p_i, p_j, w_i, w_j]\n",
    "        origin = {\"pad_idx\": (p_k, p_i, p_j), \"weight_idx\": (w_i, w_j)}\n",
    "        if cur_ifmap not in pad_origin.keys():\n",
    "            pad_origin[cur_ifmap] = [origin]\n",
    "        else:\n",
    "            pad_origin[cur_ifmap].append(origin)"
   ]
  },
  {
   "cell_type": "code",
   "execution_count": 116,
   "metadata": {},
   "outputs": [
    {
     "output_type": "stream",
     "name": "stderr",
     "text": [
      "100%|██████████| 50176/50176 [00:00<00:00, 131543.90it/s]\n",
      "100%|██████████| 50176/50176 [00:00<00:00, 131827.43it/s]\n",
      "100%|██████████| 50176/50176 [00:00<00:00, 136756.53it/s]\n",
      "100%|██████████| 50176/50176 [00:00<00:00, 131957.62it/s]\n",
      "100%|██████████| 50176/50176 [00:00<00:00, 129942.87it/s]\n",
      "100%|██████████| 50176/50176 [00:00<00:00, 133568.29it/s]\n",
      "100%|██████████| 50176/50176 [00:00<00:00, 129584.50it/s]\n",
      "100%|██████████| 50176/50176 [00:00<00:00, 129921.05it/s]\n",
      "100%|██████████| 50176/50176 [00:00<00:00, 129952.34it/s]\n",
      "100%|██████████| 50176/50176 [00:00<00:00, 130218.25it/s]\n",
      "100%|██████████| 50176/50176 [00:00<00:00, 130468.02it/s]\n",
      "100%|██████████| 50176/50176 [00:00<00:00, 135938.37it/s]\n"
     ]
    }
   ],
   "source": [
    "output = []\n",
    "for f in quite_product(range(filters)):\n",
    "    for k in quite_product(range(channels)):\n",
    "        pad_completion_counter = Counter()\n",
    "        for i, j in product(range(ifmap_M), range(ifmap_N)):\n",
    "            output_added = False\n",
    "            for assosciated_pads in pad_origin[ifmap[k][i][j]]:\n",
    "                pad_idx = assosciated_pads['pad_idx']\n",
    "                pad_completion_counter[pad_idx] += 1\n",
    "                if pad_completion_counter[pad_idx] == 9:\n",
    "                    output.append(np.einsum('ij,ij', pads[pad_idx], weights[f][k]))\n",
    "                    output_added = True\n",
    "            if i>0 and not output_added:\n",
    "                output.append(0)\n",
    "                    \n",
    "        output.extend([0]*224)\n",
    "\n",
    "output.extend([0])\n",
    "output = np.array(output[1:]).reshape(filters,channels,ifmap_M,ifmap_N)"
   ]
  },
  {
   "cell_type": "code",
   "execution_count": 119,
   "metadata": {},
   "outputs": [],
   "source": [
    "calculated = np.sum(output, axis=1)"
   ]
  },
  {
   "cell_type": "code",
   "execution_count": 180,
   "metadata": {},
   "outputs": [],
   "source": [
    "\n"
   ]
  },
  {
   "cell_type": "code",
   "execution_count": 181,
   "metadata": {},
   "outputs": [
    {
     "output_type": "execute_result",
     "data": {
      "text/plain": [
       "torch.Size([2, 224, 224])"
      ]
     },
     "metadata": {},
     "execution_count": 181
    }
   ],
   "source": []
  },
  {
   "cell_type": "code",
   "execution_count": 132,
   "metadata": {},
   "outputs": [
    {
     "output_type": "execute_result",
     "data": {
      "text/plain": [
       "[tensor(True), tensor(True), tensor(True), tensor(True)]"
      ]
     },
     "metadata": {},
     "execution_count": 132
    }
   ],
   "source": [
    "[(torch.tensor(calculated[i]) == output[i]).all() for i in range(4)]"
   ]
  },
  {
   "cell_type": "code",
   "execution_count": 186,
   "metadata": {},
   "outputs": [
    {
     "output_type": "stream",
     "name": "stdout",
     "text": [
      "2\n3\n"
     ]
    }
   ],
   "source": [
    "def test(t = 1):\n",
    "    def inner1():\n",
    "        nonlocal t\n",
    "        t += 1\n",
    "        print(t)\n",
    "    def inner2():\n",
    "        nonlocal t\n",
    "        print(t+1)\n",
    "    inner1()\n",
    "    inner2()\n",
    "test()"
   ]
  },
  {
   "cell_type": "code",
   "execution_count": null,
   "metadata": {},
   "outputs": [],
   "source": []
  }
 ]
}