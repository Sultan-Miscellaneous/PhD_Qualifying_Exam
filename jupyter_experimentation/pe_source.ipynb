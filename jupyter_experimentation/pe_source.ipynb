{
 "metadata": {
  "language_info": {
   "codemirror_mode": {
    "name": "ipython",
    "version": 3
   },
   "file_extension": ".py",
   "mimetype": "text/x-python",
   "name": "python",
   "nbconvert_exporter": "python",
   "pygments_lexer": "ipython3",
   "version": "3.8.5"
  },
  "orig_nbformat": 2,
  "kernelspec": {
   "name": "python385jvsc74a57bd01132dd3d2b62629b64ef6d511395d731d55c4cfd2a36df2bde7531b770e8b631",
   "display_name": "Python 3.8.5 64-bit ('HW1': conda)"
  }
 },
 "nbformat": 4,
 "nbformat_minor": 2,
 "cells": [
  {
   "cell_type": "code",
   "execution_count": 1,
   "metadata": {},
   "outputs": [],
   "source": [
    "import numpy as np\n",
    "from numpy.lib.stride_tricks import sliding_window_view\n",
    "from itertools import product as vanilla_product\n",
    "from tqdm.contrib.itertools import product\n",
    "from collections import Counter"
   ]
  },
  {
   "cell_type": "code",
   "execution_count": 2,
   "metadata": {},
   "outputs": [],
   "source": [
    "weights_M  = 3\n",
    "weights_N  = 3\n",
    "ifmap_M = 224\n",
    "ifmap_N = 224\n",
    "channels = 1\n",
    "ofmap_M = ifmap_M-weights_M+1\n",
    "ofmap_N = ifmap_N-weights_M+1\n",
    "ofmap_C = 1"
   ]
  },
  {
   "cell_type": "code",
   "execution_count": 4,
   "metadata": {},
   "outputs": [],
   "source": [
    "ifmap = np.arange(channels*ifmap_M*ifmap_N).reshape(channels,ifmap_M,ifmap_N)"
   ]
  },
  {
   "cell_type": "code",
   "execution_count": 5,
   "metadata": {},
   "outputs": [],
   "source": [
    "weights = np.arange(channels*weights_M*weights_N).reshape(channels,weights_M,weights_N)"
   ]
  },
  {
   "cell_type": "code",
   "execution_count": 6,
   "metadata": {},
   "outputs": [],
   "source": [
    "pads = sliding_window_view(ifmap,window_shape=[1,3,3]).squeeze()"
   ]
  },
  {
   "cell_type": "code",
   "execution_count": 7,
   "metadata": {
    "tags": []
   },
   "outputs": [
    {
     "output_type": "stream",
     "name": "stderr",
     "text": [
      "100%|██████████| 49284/49284 [00:00<00:00, 63179.73it/s]\n"
     ]
    }
   ],
   "source": [
    "pad_origin = {}\n",
    "for p_i, p_j in product(range(pads.shape[0]), range(pads.shape[1])):\n",
    "    for w_i, w_j in vanilla_product(range(pads.shape[2]), range(pads.shape[3])):\n",
    "        cur_ifmap = pads[p_i, p_j, w_i, w_j]\n",
    "        origin = {\"pad_idx\": (p_i, p_j), \"weight_idx\": (w_i, w_j)}\n",
    "        if cur_ifmap not in pad_origin.keys():\n",
    "            pad_origin[cur_ifmap] = [origin]\n",
    "        else:\n",
    "            pad_origin[cur_ifmap].append(origin)"
   ]
  },
  {
   "cell_type": "code",
   "execution_count": 8,
   "metadata": {
    "tags": []
   },
   "outputs": [],
   "source": [
    "relevant_pads = set()\n",
    "for idx in range(0,450):\n",
    "    for entry in pad_origin[idx]:\n",
    "        relevant_pads.update([entry['pad_idx']])"
   ]
  },
  {
   "cell_type": "code",
   "execution_count": 9,
   "metadata": {},
   "outputs": [
    {
     "output_type": "execute_result",
     "data": {
      "text/plain": [
       "446"
      ]
     },
     "metadata": {},
     "execution_count": 9
    }
   ],
   "source": [
    "len(relevant_pads)"
   ]
  },
  {
   "cell_type": "code",
   "execution_count": 11,
   "metadata": {},
   "outputs": [
    {
     "output_type": "stream",
     "name": "stdout",
     "text": [
      "8.84000318877551\n"
     ]
    }
   ],
   "source": [
    "macs = 0\n",
    "for idx in range(0,ifmap_M*ifmap_N*channels):\n",
    "    macs += len(pad_origin[idx])\n",
    "print(macs/(ifmap_M*ifmap_N*channels))"
   ]
  },
  {
   "cell_type": "code",
   "execution_count": 26,
   "metadata": {
    "tags": []
   },
   "outputs": [
    {
     "output_type": "stream",
     "name": "stderr",
     "text": [
      "100%|██████████| 50176/50176 [00:00<00:00, 130585.24it/s]\n"
     ]
    }
   ],
   "source": [
    "output = [0]*(ifmap_N)*2\n",
    "pad_completion_counter = Counter()\n",
    "for k, i, j in product(range(channels), range(ifmap_M), range(ifmap_N)):\n",
    "    if i > 1 and (j%ifmap_N == 0 or j%(ifmap_N-1) == 0):\n",
    "        output.append(0)\n",
    "        output.append(0)\n",
    "    for assosciated_pads in pad_origin[ifmap[k][i][j]]:\n",
    "        pad_idx = assosciated_pads['pad_idx']\n",
    "        pad_completion_counter[pad_idx] += 1\n",
    "        if pad_completion_counter[pad_idx] == 9:\n",
    "            output.append(np.einsum('ij,ij', pads[pad_idx], weights.squeeze()))\n",
    "output.append([0]*((ifmap_N)*2+2))"
   ]
  },
  {
   "cell_type": "code",
   "execution_count": 30,
   "metadata": {},
   "outputs": [],
   "source": [
    "output.append(1231231)"
   ]
  },
  {
   "cell_type": "code",
   "execution_count": 32,
   "metadata": {},
   "outputs": [
    {
     "output_type": "stream",
     "name": "stdout",
     "text": [
      "1231231\n"
     ]
    }
   ],
   "source": [
    "print(output[-1])"
   ]
  },
  {
   "cell_type": "code",
   "execution_count": null,
   "metadata": {},
   "outputs": [],
   "source": [
    "np.array([[1,2,3],[4,5,6],[7,8,9]])"
   ]
  },
  {
   "cell_type": "code",
   "execution_count": null,
   "metadata": {},
   "outputs": [],
   "source": []
  }
 ]
}