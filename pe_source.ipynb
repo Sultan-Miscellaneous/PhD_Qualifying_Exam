{
 "metadata": {
  "language_info": {
   "codemirror_mode": {
    "name": "ipython",
    "version": 3
   },
   "file_extension": ".py",
   "mimetype": "text/x-python",
   "name": "python",
   "nbconvert_exporter": "python",
   "pygments_lexer": "ipython3",
   "version": "3.8.5"
  },
  "orig_nbformat": 2,
  "kernelspec": {
   "name": "python385jvsc74a57bd0f898756bdd4a85a2b96be05733c8abce1766de8ba6c8c449dff99d3c68dfa388",
   "display_name": "Python 3.8.5 64-bit ('QE': conda)"
  }
 },
 "nbformat": 4,
 "nbformat_minor": 2,
 "cells": [
  {
   "cell_type": "code",
   "execution_count": 253,
   "metadata": {},
   "outputs": [],
   "source": [
    "import numpy as np\n",
    "from numpy.lib.stride_tricks import sliding_window_view\n",
    "from itertools import product as vanilla_product\n",
    "from tqdm.contrib.itertools import product"
   ]
  },
  {
   "cell_type": "code",
   "execution_count": 268,
   "metadata": {},
   "outputs": [],
   "source": [
    "ifmap_M = 224\n",
    "ifmap_N = 224\n",
    "ifmap_C = 1\n",
    "ofmap_M = ifmap_M-2\n",
    "ofmap_N = ifmap_N-2\n",
    "ofmap_C = 1"
   ]
  },
  {
   "cell_type": "code",
   "execution_count": 269,
   "metadata": {},
   "outputs": [],
   "source": [
    "ifmap = np.arange(ifmap_M*ifmap_N*ifmap_C).reshape((ifmap_C, ifmap_N, ifmap_M))"
   ]
  },
  {
   "cell_type": "code",
   "execution_count": 270,
   "metadata": {},
   "outputs": [
    {
     "output_type": "execute_result",
     "data": {
      "text/plain": [
       "array([[[    0,     1,     2, ...,   221,   222,   223],\n",
       "        [  224,   225,   226, ...,   445,   446,   447],\n",
       "        [  448,   449,   450, ...,   669,   670,   671],\n",
       "        ...,\n",
       "        [49504, 49505, 49506, ..., 49725, 49726, 49727],\n",
       "        [49728, 49729, 49730, ..., 49949, 49950, 49951],\n",
       "        [49952, 49953, 49954, ..., 50173, 50174, 50175]]])"
      ]
     },
     "metadata": {},
     "execution_count": 270
    }
   ],
   "source": [
    "ifmap"
   ]
  },
  {
   "cell_type": "code",
   "execution_count": 354,
   "metadata": {},
   "outputs": [],
   "source": [
    "pads = sliding_window_view(ifmap,window_shape=[1,3,3]).squeeze()"
   ]
  },
  {
   "cell_type": "code",
   "execution_count": 355,
   "metadata": {},
   "outputs": [
    {
     "output_type": "execute_result",
     "data": {
      "text/plain": [
       "(222, 222, 3, 3)"
      ]
     },
     "metadata": {},
     "execution_count": 355
    }
   ],
   "source": [
    "pads.shape"
   ]
  },
  {
   "cell_type": "code",
   "execution_count": 356,
   "metadata": {
    "tags": []
   },
   "outputs": [
    {
     "output_type": "stream",
     "name": "stderr",
     "text": [
      "100%|██████████| 49284/49284 [00:02<00:00, 22250.03it/s]\n"
     ]
    }
   ],
   "source": [
    "pad_origin = {}\n",
    "for p_i, p_j in product(range(pads.shape[0]), range(pads.shape[1])):\n",
    "    for w_i, w_j in vanilla_product(range(pads.shape[2]), range(pads.shape[3])):\n",
    "        cur_ifmap = pads[p_i, p_j, w_i, w_j]\n",
    "        origin = {\"O\": (p_i, p_j), \"W\": (w_i, w_j)}\n",
    "        if cur_ifmap not in pad_origin.keys():\n",
    "            pad_origin[cur_ifmap] = [origin]\n",
    "        else:\n",
    "            pad_origin[cur_ifmap].append(origin)"
   ]
  },
  {
   "cell_type": "code",
   "execution_count": 357,
   "metadata": {
    "tags": []
   },
   "outputs": [],
   "source": [
    "relevant_pads = set()\n",
    "for idx in range(0,450):\n",
    "    for entry in pad_origin[idx]:\n",
    "        relevant_pads.update([entry['O']])"
   ]
  },
  {
   "cell_type": "code",
   "execution_count": 358,
   "metadata": {},
   "outputs": [
    {
     "output_type": "execute_result",
     "data": {
      "text/plain": [
       "446"
      ]
     },
     "metadata": {},
     "execution_count": 358
    }
   ],
   "source": [
    "len(relevant_pads)"
   ]
  },
  {
   "cell_type": "code",
   "execution_count": 347,
   "metadata": {},
   "outputs": [
    {
     "output_type": "stream",
     "name": "stdout",
     "text": [
      "8.84000318877551\n"
     ]
    }
   ],
   "source": [
    "macs = 0\n",
    "for idx in range(0,ifmap_M*ifmap_N*ifmap_C):\n",
    "    macs += len(pad_origin[idx])\n",
    "print(macs/(ifmap_M*ifmap_N*ifmap_C))"
   ]
  },
  {
   "cell_type": "code",
   "execution_count": 343,
   "metadata": {},
   "outputs": [
    {
     "output_type": "execute_result",
     "data": {
      "text/plain": [
       "array([[  0,   1,   2,   3,   4,   5,   6,   7,   8,   9,  10,  11,  12,\n",
       "         13,  14,  15,  16,  17,  18,  19,  20,  21,  22,  23,  24,  25,\n",
       "         26,  27,  28,  29,  30,  31,  32,  33,  34,  35,  36,  37,  38,\n",
       "         39,  40,  41,  42,  43,  44,  45,  46,  47,  48,  49,  50,  51,\n",
       "         52,  53,  54,  55,  56,  57,  58,  59,  60,  61,  62,  63,  64,\n",
       "         65,  66,  67,  68,  69,  70,  71,  72,  73,  74,  75,  76,  77,\n",
       "         78,  79,  80,  81,  82,  83,  84,  85,  86,  87,  88,  89,  90,\n",
       "         91,  92,  93,  94,  95,  96,  97,  98,  99, 100, 101, 102, 103,\n",
       "        104, 105, 106, 107, 108, 109, 110, 111, 112, 113, 114, 115, 116,\n",
       "        117, 118, 119, 120, 121, 122, 123, 124, 125, 126, 127, 128, 129,\n",
       "        130, 131, 132, 133, 134, 135, 136, 137, 138, 139, 140, 141, 142,\n",
       "        143, 144, 145, 146, 147, 148, 149, 150, 151, 152, 153, 154, 155,\n",
       "        156, 157, 158, 159, 160, 161, 162, 163, 164, 165, 166, 167, 168,\n",
       "        169, 170, 171, 172, 173, 174, 175, 176, 177, 178, 179, 180, 181,\n",
       "        182, 183, 184, 185, 186, 187, 188, 189, 190, 191, 192, 193, 194,\n",
       "        195, 196, 197, 198, 199, 200, 201, 202, 203, 204, 205, 206, 207,\n",
       "        208, 209, 210, 211, 212, 213, 214, 215, 216, 217, 218, 219, 220,\n",
       "        221, 222, 223],\n",
       "       [224, 225, 226, 227, 228, 229, 230, 231, 232, 233, 234, 235, 236,\n",
       "        237, 238, 239, 240, 241, 242, 243, 244, 245, 246, 247, 248, 249,\n",
       "        250, 251, 252, 253, 254, 255, 256, 257, 258, 259, 260, 261, 262,\n",
       "        263, 264, 265, 266, 267, 268, 269, 270, 271, 272, 273, 274, 275,\n",
       "        276, 277, 278, 279, 280, 281, 282, 283, 284, 285, 286, 287, 288,\n",
       "        289, 290, 291, 292, 293, 294, 295, 296, 297, 298, 299, 300, 301,\n",
       "        302, 303, 304, 305, 306, 307, 308, 309, 310, 311, 312, 313, 314,\n",
       "        315, 316, 317, 318, 319, 320, 321, 322, 323, 324, 325, 326, 327,\n",
       "        328, 329, 330, 331, 332, 333, 334, 335, 336, 337, 338, 339, 340,\n",
       "        341, 342, 343, 344, 345, 346, 347, 348, 349, 350, 351, 352, 353,\n",
       "        354, 355, 356, 357, 358, 359, 360, 361, 362, 363, 364, 365, 366,\n",
       "        367, 368, 369, 370, 371, 372, 373, 374, 375, 376, 377, 378, 379,\n",
       "        380, 381, 382, 383, 384, 385, 386, 387, 388, 389, 390, 391, 392,\n",
       "        393, 394, 395, 396, 397, 398, 399, 400, 401, 402, 403, 404, 405,\n",
       "        406, 407, 408, 409, 410, 411, 412, 413, 414, 415, 416, 417, 418,\n",
       "        419, 420, 421, 422, 423, 424, 425, 426, 427, 428, 429, 430, 431,\n",
       "        432, 433, 434, 435, 436, 437, 438, 439, 440, 441, 442, 443, 444,\n",
       "        445, 446, 447],\n",
       "       [448, 449, 450, 451, 452, 453, 454, 455, 456, 457, 458, 459, 460,\n",
       "        461, 462, 463, 464, 465, 466, 467, 468, 469, 470, 471, 472, 473,\n",
       "        474, 475, 476, 477, 478, 479, 480, 481, 482, 483, 484, 485, 486,\n",
       "        487, 488, 489, 490, 491, 492, 493, 494, 495, 496, 497, 498, 499,\n",
       "        500, 501, 502, 503, 504, 505, 506, 507, 508, 509, 510, 511, 512,\n",
       "        513, 514, 515, 516, 517, 518, 519, 520, 521, 522, 523, 524, 525,\n",
       "        526, 527, 528, 529, 530, 531, 532, 533, 534, 535, 536, 537, 538,\n",
       "        539, 540, 541, 542, 543, 544, 545, 546, 547, 548, 549, 550, 551,\n",
       "        552, 553, 554, 555, 556, 557, 558, 559, 560, 561, 562, 563, 564,\n",
       "        565, 566, 567, 568, 569, 570, 571, 572, 573, 574, 575, 576, 577,\n",
       "        578, 579, 580, 581, 582, 583, 584, 585, 586, 587, 588, 589, 590,\n",
       "        591, 592, 593, 594, 595, 596, 597, 598, 599, 600, 601, 602, 603,\n",
       "        604, 605, 606, 607, 608, 609, 610, 611, 612, 613, 614, 615, 616,\n",
       "        617, 618, 619, 620, 621, 622, 623, 624, 625, 626, 627, 628, 629,\n",
       "        630, 631, 632, 633, 634, 635, 636, 637, 638, 639, 640, 641, 642,\n",
       "        643, 644, 645, 646, 647, 648, 649, 650, 651, 652, 653, 654, 655,\n",
       "        656, 657, 658, 659, 660, 661, 662, 663, 664, 665, 666, 667, 668,\n",
       "        669, 670, 671]])"
      ]
     },
     "metadata": {},
     "execution_count": 343
    }
   ],
   "source": [
    "ifmap[0][0:3]"
   ]
  },
  {
   "cell_type": "code",
   "execution_count": null,
   "metadata": {},
   "outputs": [],
   "source": []
  }
 ]
}